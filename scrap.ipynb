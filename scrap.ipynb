{
 "cells": [
  {
   "cell_type": "code",
   "execution_count": 1,
   "metadata": {},
   "outputs": [],
   "source": [
    "import requests\n",
    "import json"
   ]
  },
  {
   "cell_type": "code",
   "execution_count": 2,
   "metadata": {},
   "outputs": [],
   "source": [
    "BASE_URL = \"https://search-api.epfl.ch/api/unit?hl=en&showall=0&siteSearch=unit.epfl.ch&acro=\"\n",
    "\n",
    "res = requests.get(BASE_URL + 'ASSOCIATIONS')\n",
    "groups = json.loads(res.text)['subunits']\n",
    "\n",
    "units = []\n",
    "for i, group in enumerate(groups):\n",
    "    res = requests.get(BASE_URL + group['acronym'])\n",
    "    group_units = json.loads(res.text)['subunits']\n",
    "    groups[i] = {\n",
    "        **group,\n",
    "        'id': i\n",
    "    }\n",
    "    for unit in group_units:\n",
    "        units.append({\n",
    "            'group_name': group['acronym'],\n",
    "            'group_id': i,\n",
    "            **unit\n",
    "        })"
   ]
  },
  {
   "cell_type": "code",
   "execution_count": 3,
   "metadata": {},
   "outputs": [],
   "source": [
    "for i, unit in enumerate(units):\n",
    "    units[i] = {\n",
    "        **unit,\n",
    "        'id': i,\n",
    "        'label': unit['acronym'],\n",
    "        'type': 'unit'\n",
    "    }"
   ]
  },
  {
   "cell_type": "code",
   "execution_count": 30,
   "metadata": {},
   "outputs": [],
   "source": [
    "with open(\"nodes.json\", \"w\", encoding='utf8') as outfile:\n",
    "    json.dump(units, outfile, ensure_ascii=False)\n",
    "with open(\"groups.json\", \"w\", encoding='utf8') as outfile:\n",
    "    json.dump(groups, outfile, ensure_ascii=False)"
   ]
  },
  {
   "cell_type": "code",
   "execution_count": 4,
   "metadata": {},
   "outputs": [],
   "source": [
    "from ldap3 import Server, Connection, SUBTREE\n",
    "c = Connection(\"ldaps://ldap.epfl.ch:636\", auto_bind=True)\n",
    "c.bind()\n",
    "\n",
    "accreds = []\n",
    "for unit in units:\n",
    "    c.search(search_base = 'o=ehe,c=ch',\n",
    "            search_filter = f\"(&(ou={unit['acronym']})(objectClass=person))\",\n",
    "            search_scope = SUBTREE,\n",
    "            attributes = '*')\n",
    "\n",
    "    results = c.response\n",
    "    for user in results:\n",
    "        user = dict(user['attributes'])\n",
    "        accreds.append({\n",
    "            'sciper': int(user['uniqueIdentifier'][0]),\n",
    "            'name': user['displayName'],\n",
    "            'unit_name': unit['acronym'],\n",
    "            'unit_id': unit['id']\n",
    "        })\n"
   ]
  },
  {
   "cell_type": "code",
   "execution_count": 18,
   "metadata": {},
   "outputs": [],
   "source": [
    "unit_size = dict()\n",
    "for accred in accreds:\n",
    "    unit_id = accred['unit_id']\n",
    "    if(unit_id in unit_size):\n",
    "        unit_size[unit_id] += 1\n",
    "    else:\n",
    "        unit_size[unit_id] = 1\n",
    "\n",
    "for i, unit in enumerate(units):\n",
    "    if (unit['id'] not in unit_size):\n",
    "        size = 0\n",
    "    else:\n",
    "        size = unit_size[unit['id']]\n",
    "    units[i] = {\n",
    "        **unit,\n",
    "        'size': size\n",
    "    }"
   ]
  },
  {
   "cell_type": "code",
   "execution_count": 19,
   "metadata": {},
   "outputs": [],
   "source": [
    "n_accreds = dict()\n",
    "for accred in accreds:\n",
    "    if (accred['sciper'] in n_accreds):\n",
    "        n_accreds[accred['sciper']] += 1\n",
    "    else:\n",
    "        n_accreds[accred['sciper']] = 1\n",
    "\n",
    "users = []\n",
    "for accred in accreds:\n",
    "    if (n_accreds[accred['sciper']] > 1):\n",
    "        user = {\n",
    "            'id': accred['sciper'],\n",
    "            'name': accred['name'],\n",
    "            'type': 'user',\n",
    "            'accreds': n_accreds[accred['sciper']]\n",
    "        }\n",
    "        if (user not in users):\n",
    "            users.append(user)\n",
    "\n",
    "        "
   ]
  },
  {
   "cell_type": "code",
   "execution_count": 31,
   "metadata": {},
   "outputs": [],
   "source": [
    "with open(\"users.json\", \"w\", encoding='utf8') as outfile:\n",
    "    json.dump(users, outfile, ensure_ascii=False)"
   ]
  },
  {
   "cell_type": "code",
   "execution_count": 20,
   "metadata": {},
   "outputs": [],
   "source": [
    "links = []\n",
    "for i, accred in enumerate(accreds):\n",
    "    for unit in units:\n",
    "        if (unit['acronym'] == accred['unit_name']):\n",
    "            unit_id = unit['id']\n",
    "    for user in users:\n",
    "        if (user['id'] == accred['sciper']):\n",
    "            user_id = user['id']\n",
    "            links.append({\n",
    "                'target': unit_id,\n",
    "                'source': user_id\n",
    "            })"
   ]
  },
  {
   "cell_type": "code",
   "execution_count": 29,
   "metadata": {},
   "outputs": [],
   "source": [
    "with open(\"links.json\", \"w\", encoding='utf8') as outfile:\n",
    "    json.dump(links, outfile, ensure_ascii=False)"
   ]
  },
  {
   "cell_type": "code",
   "execution_count": 21,
   "metadata": {},
   "outputs": [],
   "source": [
    "data = {\n",
    "    'nodes': units + users,\n",
    "    'links': links\n",
    "}"
   ]
  },
  {
   "cell_type": "code",
   "execution_count": 20,
   "metadata": {},
   "outputs": [
    {
     "name": "stdout",
     "output_type": "stream",
     "text": [
      "{'id': 288450, 'name': 'Benjamin Bruno Vincent Louis', 'accreds': 2}\n"
     ]
    }
   ],
   "source": [
    "for node in data['nodes']:\n",
    "    if (node['id'] == 288450):\n",
    "        print(node)"
   ]
  },
  {
   "cell_type": "code",
   "execution_count": 23,
   "metadata": {},
   "outputs": [
    {
     "name": "stdout",
     "output_type": "stream",
     "text": [
      "{'target': 0, 'source': 288450}\n",
      "{'target': 49, 'source': 288450}\n"
     ]
    }
   ],
   "source": [
    "for link in data['links']:\n",
    "    if (link['source'] == 288450):\n",
    "        print(link)"
   ]
  },
  {
   "cell_type": "code",
   "execution_count": 9,
   "metadata": {},
   "outputs": [],
   "source": [
    "with open(\"data.json\", \"w\", encoding='utf8') as outfile:\n",
    "    json.dump(data, outfile, ensure_ascii=False)"
   ]
  }
 ],
 "metadata": {
  "kernelspec": {
   "display_name": "Python 3",
   "language": "python",
   "name": "python3"
  },
  "language_info": {
   "codemirror_mode": {
    "name": "ipython",
    "version": 3
   },
   "file_extension": ".py",
   "mimetype": "text/x-python",
   "name": "python",
   "nbconvert_exporter": "python",
   "pygments_lexer": "ipython3",
   "version": "3.9.0"
  },
  "orig_nbformat": 4,
  "vscode": {
   "interpreter": {
    "hash": "f93075eebf97bc5e18c38d1a54e461de353c7365fd9def5e44782928585336f0"
   }
  }
 },
 "nbformat": 4,
 "nbformat_minor": 2
}
